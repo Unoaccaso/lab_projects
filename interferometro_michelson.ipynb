{
  "nbformat": 4,
  "nbformat_minor": 0,
  "metadata": {
    "colab": {
      "name": "interferometro_michelson.ipynb",
      "provenance": [],
      "collapsed_sections": [],
      "include_colab_link": true
    },
    "kernelspec": {
      "name": "python3",
      "display_name": "Python 3"
    }
  },
  "cells": [
    {
      "cell_type": "markdown",
      "metadata": {
        "id": "view-in-github",
        "colab_type": "text"
      },
      "source": [
        "<a href=\"https://colab.research.google.com/github/Unoaccaso/lab_projects/blob/master/interferometro_michelson.ipynb\" target=\"_parent\"><img src=\"https://colab.research.google.com/assets/colab-badge.svg\" alt=\"Open In Colab\"/></a>"
      ]
    },
    {
      "cell_type": "markdown",
      "metadata": {
        "id": "T69MniSrn0K3",
        "colab_type": "text"
      },
      "source": [
        "# Importazione dei dati\n",
        "Si importa il dataset e si definiscono le funzioni che saranno successivamente utili all'analisi dati."
      ]
    },
    {
      "cell_type": "code",
      "metadata": {
        "id": "3vymnwazoThI",
        "colab_type": "code",
        "colab": {}
      },
      "source": [
        "import pandas as pd\n",
        "import matplotlib.pyplot as plt\n",
        "import numpy as np\n",
        "import scipy.constants as cost"
      ],
      "execution_count": 0,
      "outputs": []
    },
    {
      "cell_type": "code",
      "metadata": {
        "id": "oufhSOtCpcXr",
        "colab_type": "code",
        "colab": {}
      },
      "source": [
        "# funzione che calcola la visibilità su un vettore di intensità.\n",
        "def V(I = None):\n",
        "  I_max = I.max()\n",
        "  I_min = I.min()\n",
        "  V = (I_max - I_min)/(I_max + I_min)\n",
        "  return V\n",
        "\n",
        "# funzione per il plot della visibilità in tau.\n",
        "def plot(y, x, fig_size = (10, 10), title=None, xlabel=None,\n",
        "         ylabel=None):\n",
        "  plt.figure(figsize = fig_size)\n",
        "  plt.plot(x, y)\n",
        "  plt.title(title)\n",
        "  plt.xlabel(xlabel)\n",
        "  plt.ylabel(ylabel)\n",
        "  plt.show()\n",
        "  plt.close()\n",
        "\n",
        "# ====================\n",
        "# Funzione per il fit \n",
        "# ====================\n",
        "import scipy.odr as odr\n",
        "from scipy.stats import kstest\n",
        "\n",
        "''' Performs the fit\n",
        "Needed Parameters (key-word):\n",
        "  function: function with 2 arguments:\n",
        "    array-like object for parameters (float-like)\n",
        "    array-like object for variables (float-like)\n",
        "  par0: array-like object for parameters prior (float-like)\n",
        "  par_names: array-like object for parameters prior (string)\n",
        "  file_name: csv with data\n",
        "Returns:\n",
        "  tuple with array of parameters and pvalue\n",
        "'''\n",
        "def fit(function=None, par0=None, par_names=None,\n",
        "        x=None, y=None, sx=None, sy=None,\n",
        "        xlabel=\"\", ylabel=\"\", title=\"\", xres = 100):\n",
        "\n",
        "  fit_data = odr.RealData(x, y=y, sx=sx, sy=sy)\n",
        "  model = odr.Model(function)\n",
        "  fit = odr.ODR(fit_data, \n",
        "                model, \n",
        "                beta0=par0)\n",
        "  out = fit.run()\n",
        "\n",
        "  par = out.beta\n",
        "  par_s = out.sd_beta\n",
        "  for i in range(len(par_names)):\n",
        "    print(f'{par_names[i]} : {par[i]:.3f} +- {par_s[i]:.3f}')\n",
        "\n",
        "  plt.errorbar(x, y, xerr=sx, yerr=sy,\n",
        "    ecolor='black', fmt='o', color='black', markersize=2\n",
        "  )\n",
        "  d_x = max(x)-min(x)\n",
        "  x = np.linspace(min(x)-d_x/10, max(x)+d_x/10, xres)\n",
        "  d_y = max(y)-min(y)\n",
        "  plt.ylim(min(y)-d_y/10, max(y)+d_y/10)\n",
        "  plt.plot(x, function(par, x), color='blue')\n",
        "  plt.xlabel(xlabel)\n",
        "  plt.ylabel(ylabel)\n",
        "  plt.title(title)\n",
        "  plt.show()\n",
        "  '''\n",
        "  Kolmogorov-smirnov test on normalized residuals is performed.\n",
        "  It tests the similarity between normalized residuals and a normalized gaussian.\n",
        "  This similarity implies a reasonable belief in goodness of fit and\n",
        "  correct estimation of uncertainties.\n",
        "  If pvalue is > 0.05 the fit is accepted\n",
        "  '''\n",
        "  y_res_norm = out.eps/sy\n",
        "  plt.hist(y_res_norm)\n",
        "  plt.title(\"Residuals histogram\")\n",
        "  plt.show()\n",
        "  pvalue = kstest(y_res_norm, 'norm').pvalue\n",
        "  print(f\"p_value: {pvalue:.3f}\")\n",
        "\n",
        "  return out"
      ],
      "execution_count": 0,
      "outputs": []
    },
    {
      "cell_type": "markdown",
      "metadata": {
        "id": "k0pEMJ2BDFCn",
        "colab_type": "text"
      },
      "source": [
        "Si organizzano i dati in maniera più consona, utilizzando pandas, in modo da rendere più comoda la rappresentazione."
      ]
    },
    {
      "cell_type": "code",
      "metadata": {
        "id": "7V1AVyQ7nyqw",
        "colab_type": "code",
        "outputId": "75e6aa1d-f1c4-4a2b-faf3-2685fa6cba19",
        "colab": {
          "base_uri": "https://localhost:8080/",
          "height": 1000
        }
      },
      "source": [
        "path = 'Dati_Michelson-v2.csv'\n",
        "columns = [\n",
        "           \n",
        "]\n",
        "# inserisco i dati in un dataset pandas.\n",
        "try:\n",
        "  data = pd.read_csv(path, header= 0, sep=';')\n",
        "except:\n",
        "  print(\"Errore nell'apertura del file dati\")\n",
        "#data = data.drop([2])\n",
        "data['l'] = data['l']*2/29.98\n",
        "data['dl'] = data['dl']*2/29.98\n",
        "data = data.rename(columns = {'l':'tempo [ns]',\n",
        "             'dl': 'sigma[t] [ns]',\n",
        "             'V': 'Visibilità',\n",
        "             'DV': 'sigma[V]'\n",
        "})\n",
        "data"
      ],
      "execution_count": 3,
      "outputs": [
        {
          "output_type": "execute_result",
          "data": {
            "text/html": [
              "<div>\n",
              "<style scoped>\n",
              "    .dataframe tbody tr th:only-of-type {\n",
              "        vertical-align: middle;\n",
              "    }\n",
              "\n",
              "    .dataframe tbody tr th {\n",
              "        vertical-align: top;\n",
              "    }\n",
              "\n",
              "    .dataframe thead th {\n",
              "        text-align: right;\n",
              "    }\n",
              "</style>\n",
              "<table border=\"1\" class=\"dataframe\">\n",
              "  <thead>\n",
              "    <tr style=\"text-align: right;\">\n",
              "      <th></th>\n",
              "      <th>tempo [ns]</th>\n",
              "      <th>Unnamed: 1</th>\n",
              "      <th>sigma[t] [ns]</th>\n",
              "      <th>Unnamed: 3</th>\n",
              "      <th>Vmax (mV)</th>\n",
              "      <th>DVmax (mV)</th>\n",
              "      <th>Vmin (mV)</th>\n",
              "      <th>DVmin (mV)</th>\n",
              "      <th>Visibilità</th>\n",
              "      <th>sigma[V]</th>\n",
              "    </tr>\n",
              "  </thead>\n",
              "  <tbody>\n",
              "    <tr>\n",
              "      <th>0</th>\n",
              "      <td>-0.340227</td>\n",
              "      <td>-0.342282</td>\n",
              "      <td>0.006671</td>\n",
              "      <td>0.003356</td>\n",
              "      <td>77.2</td>\n",
              "      <td>3.3</td>\n",
              "      <td>9.0</td>\n",
              "      <td>1.3</td>\n",
              "      <td>0.791183</td>\n",
              "      <td>0.028171</td>\n",
              "    </tr>\n",
              "    <tr>\n",
              "      <th>1</th>\n",
              "      <td>-0.166778</td>\n",
              "      <td>-0.167785</td>\n",
              "      <td>0.006671</td>\n",
              "      <td>0.003356</td>\n",
              "      <td>113.4</td>\n",
              "      <td>4.4</td>\n",
              "      <td>7.4</td>\n",
              "      <td>1.2</td>\n",
              "      <td>0.877483</td>\n",
              "      <td>0.019177</td>\n",
              "    </tr>\n",
              "    <tr>\n",
              "      <th>2</th>\n",
              "      <td>0.000007</td>\n",
              "      <td>0.000010</td>\n",
              "      <td>0.006671</td>\n",
              "      <td>0.003356</td>\n",
              "      <td>79.4</td>\n",
              "      <td>3.4</td>\n",
              "      <td>0.2</td>\n",
              "      <td>1.0</td>\n",
              "      <td>0.994975</td>\n",
              "      <td>0.025063</td>\n",
              "    </tr>\n",
              "    <tr>\n",
              "      <th>3</th>\n",
              "      <td>0.166778</td>\n",
              "      <td>0.167785</td>\n",
              "      <td>0.006671</td>\n",
              "      <td>0.003356</td>\n",
              "      <td>59.4</td>\n",
              "      <td>2.8</td>\n",
              "      <td>2.7</td>\n",
              "      <td>1.1</td>\n",
              "      <td>0.913043</td>\n",
              "      <td>0.034113</td>\n",
              "    </tr>\n",
              "    <tr>\n",
              "      <th>4</th>\n",
              "      <td>0.333556</td>\n",
              "      <td>0.335570</td>\n",
              "      <td>0.006671</td>\n",
              "      <td>0.003356</td>\n",
              "      <td>87.4</td>\n",
              "      <td>3.6</td>\n",
              "      <td>8.2</td>\n",
              "      <td>1.2</td>\n",
              "      <td>0.828452</td>\n",
              "      <td>0.023843</td>\n",
              "    </tr>\n",
              "    <tr>\n",
              "      <th>5</th>\n",
              "      <td>0.500334</td>\n",
              "      <td>0.503356</td>\n",
              "      <td>0.006671</td>\n",
              "      <td>0.003356</td>\n",
              "      <td>87.4</td>\n",
              "      <td>3.6</td>\n",
              "      <td>13.0</td>\n",
              "      <td>1.4</td>\n",
              "      <td>0.741036</td>\n",
              "      <td>0.025993</td>\n",
              "    </tr>\n",
              "    <tr>\n",
              "      <th>6</th>\n",
              "      <td>0.567045</td>\n",
              "      <td>0.570470</td>\n",
              "      <td>0.006671</td>\n",
              "      <td>0.003356</td>\n",
              "      <td>82.4</td>\n",
              "      <td>3.5</td>\n",
              "      <td>18.2</td>\n",
              "      <td>1.5</td>\n",
              "      <td>0.638171</td>\n",
              "      <td>0.027479</td>\n",
              "    </tr>\n",
              "    <tr>\n",
              "      <th>7</th>\n",
              "      <td>0.667111</td>\n",
              "      <td>0.671141</td>\n",
              "      <td>0.006671</td>\n",
              "      <td>0.003356</td>\n",
              "      <td>70.6</td>\n",
              "      <td>3.1</td>\n",
              "      <td>21.0</td>\n",
              "      <td>1.6</td>\n",
              "      <td>0.541485</td>\n",
              "      <td>0.031077</td>\n",
              "    </tr>\n",
              "    <tr>\n",
              "      <th>8</th>\n",
              "      <td>0.833889</td>\n",
              "      <td>0.838926</td>\n",
              "      <td>0.006671</td>\n",
              "      <td>0.003356</td>\n",
              "      <td>61.0</td>\n",
              "      <td>2.8</td>\n",
              "      <td>25.0</td>\n",
              "      <td>1.8</td>\n",
              "      <td>0.418605</td>\n",
              "      <td>0.035212</td>\n",
              "    </tr>\n",
              "    <tr>\n",
              "      <th>9</th>\n",
              "      <td>0.900600</td>\n",
              "      <td>0.906040</td>\n",
              "      <td>0.006671</td>\n",
              "      <td>0.003356</td>\n",
              "      <td>69.4</td>\n",
              "      <td>3.1</td>\n",
              "      <td>34.2</td>\n",
              "      <td>2.0</td>\n",
              "      <td>0.339768</td>\n",
              "      <td>0.032546</td>\n",
              "    </tr>\n",
              "    <tr>\n",
              "      <th>10</th>\n",
              "      <td>1.000667</td>\n",
              "      <td>1.006711</td>\n",
              "      <td>0.006671</td>\n",
              "      <td>0.003356</td>\n",
              "      <td>57.4</td>\n",
              "      <td>2.7</td>\n",
              "      <td>39.8</td>\n",
              "      <td>2.2</td>\n",
              "      <td>0.181070</td>\n",
              "      <td>0.035101</td>\n",
              "    </tr>\n",
              "    <tr>\n",
              "      <th>11</th>\n",
              "      <td>1.167445</td>\n",
              "      <td>1.174497</td>\n",
              "      <td>0.006671</td>\n",
              "      <td>0.003356</td>\n",
              "      <td>44.6</td>\n",
              "      <td>2.3</td>\n",
              "      <td>33.8</td>\n",
              "      <td>2.0</td>\n",
              "      <td>0.137755</td>\n",
              "      <td>0.038500</td>\n",
              "    </tr>\n",
              "    <tr>\n",
              "      <th>12</th>\n",
              "      <td>1.334223</td>\n",
              "      <td>1.342282</td>\n",
              "      <td>0.006671</td>\n",
              "      <td>0.003356</td>\n",
              "      <td>51.0</td>\n",
              "      <td>2.5</td>\n",
              "      <td>32.2</td>\n",
              "      <td>2.0</td>\n",
              "      <td>0.225962</td>\n",
              "      <td>0.037543</td>\n",
              "    </tr>\n",
              "    <tr>\n",
              "      <th>13</th>\n",
              "      <td>1.501001</td>\n",
              "      <td>1.510067</td>\n",
              "      <td>0.006671</td>\n",
              "      <td>0.003356</td>\n",
              "      <td>60.6</td>\n",
              "      <td>2.8</td>\n",
              "      <td>27.4</td>\n",
              "      <td>1.8</td>\n",
              "      <td>0.377273</td>\n",
              "      <td>0.034442</td>\n",
              "    </tr>\n",
              "    <tr>\n",
              "      <th>14</th>\n",
              "      <td>1.567712</td>\n",
              "      <td>1.577181</td>\n",
              "      <td>0.006671</td>\n",
              "      <td>0.003356</td>\n",
              "      <td>63.4</td>\n",
              "      <td>2.9</td>\n",
              "      <td>24.7</td>\n",
              "      <td>1.7</td>\n",
              "      <td>0.439274</td>\n",
              "      <td>0.033347</td>\n",
              "    </tr>\n",
              "    <tr>\n",
              "      <th>15</th>\n",
              "      <td>1.667779</td>\n",
              "      <td>1.677852</td>\n",
              "      <td>0.006671</td>\n",
              "      <td>0.003356</td>\n",
              "      <td>73.0</td>\n",
              "      <td>3.2</td>\n",
              "      <td>17.8</td>\n",
              "      <td>1.5</td>\n",
              "      <td>0.607930</td>\n",
              "      <td>0.029942</td>\n",
              "    </tr>\n",
              "    <tr>\n",
              "      <th>16</th>\n",
              "      <td>1.834556</td>\n",
              "      <td>1.845638</td>\n",
              "      <td>0.006671</td>\n",
              "      <td>0.003356</td>\n",
              "      <td>72.2</td>\n",
              "      <td>3.2</td>\n",
              "      <td>12.2</td>\n",
              "      <td>1.4</td>\n",
              "      <td>0.710900</td>\n",
              "      <td>0.030423</td>\n",
              "    </tr>\n",
              "    <tr>\n",
              "      <th>17</th>\n",
              "      <td>2.001334</td>\n",
              "      <td>2.013423</td>\n",
              "      <td>0.006671</td>\n",
              "      <td>0.003356</td>\n",
              "      <td>83.8</td>\n",
              "      <td>3.5</td>\n",
              "      <td>7.0</td>\n",
              "      <td>1.2</td>\n",
              "      <td>0.845815</td>\n",
              "      <td>0.025108</td>\n",
              "    </tr>\n",
              "    <tr>\n",
              "      <th>18</th>\n",
              "      <td>2.168112</td>\n",
              "      <td>2.181208</td>\n",
              "      <td>0.006671</td>\n",
              "      <td>0.003356</td>\n",
              "      <td>80.2</td>\n",
              "      <td>3.4</td>\n",
              "      <td>3.4</td>\n",
              "      <td>1.1</td>\n",
              "      <td>0.918660</td>\n",
              "      <td>0.025461</td>\n",
              "    </tr>\n",
              "    <tr>\n",
              "      <th>19</th>\n",
              "      <td>2.334890</td>\n",
              "      <td>2.348993</td>\n",
              "      <td>0.006671</td>\n",
              "      <td>0.003356</td>\n",
              "      <td>77.0</td>\n",
              "      <td>3.3</td>\n",
              "      <td>4.2</td>\n",
              "      <td>1.1</td>\n",
              "      <td>0.896552</td>\n",
              "      <td>0.026034</td>\n",
              "    </tr>\n",
              "    <tr>\n",
              "      <th>20</th>\n",
              "      <td>2.501668</td>\n",
              "      <td>2.516779</td>\n",
              "      <td>0.006671</td>\n",
              "      <td>0.003356</td>\n",
              "      <td>73.8</td>\n",
              "      <td>3.2</td>\n",
              "      <td>6.6</td>\n",
              "      <td>1.2</td>\n",
              "      <td>0.835821</td>\n",
              "      <td>0.028169</td>\n",
              "    </tr>\n",
              "    <tr>\n",
              "      <th>21</th>\n",
              "      <td>2.668446</td>\n",
              "      <td>2.684564</td>\n",
              "      <td>0.006671</td>\n",
              "      <td>0.003356</td>\n",
              "      <td>64.2</td>\n",
              "      <td>2.9</td>\n",
              "      <td>9.0</td>\n",
              "      <td>1.3</td>\n",
              "      <td>0.754098</td>\n",
              "      <td>0.032640</td>\n",
              "    </tr>\n",
              "    <tr>\n",
              "      <th>22</th>\n",
              "      <td>2.835223</td>\n",
              "      <td>2.852349</td>\n",
              "      <td>0.006671</td>\n",
              "      <td>0.003356</td>\n",
              "      <td>64.2</td>\n",
              "      <td>2.9</td>\n",
              "      <td>13.8</td>\n",
              "      <td>1.4</td>\n",
              "      <td>0.646154</td>\n",
              "      <td>0.032343</td>\n",
              "    </tr>\n",
              "    <tr>\n",
              "      <th>23</th>\n",
              "      <td>3.002001</td>\n",
              "      <td>3.020134</td>\n",
              "      <td>0.006671</td>\n",
              "      <td>0.003356</td>\n",
              "      <td>54.2</td>\n",
              "      <td>2.6</td>\n",
              "      <td>18.8</td>\n",
              "      <td>1.6</td>\n",
              "      <td>0.484932</td>\n",
              "      <td>0.037360</td>\n",
              "    </tr>\n",
              "    <tr>\n",
              "      <th>24</th>\n",
              "      <td>3.088726</td>\n",
              "      <td>3.107383</td>\n",
              "      <td>0.006671</td>\n",
              "      <td>0.003356</td>\n",
              "      <td>48.0</td>\n",
              "      <td>2.4</td>\n",
              "      <td>28.4</td>\n",
              "      <td>1.9</td>\n",
              "      <td>0.256545</td>\n",
              "      <td>0.039012</td>\n",
              "    </tr>\n",
              "    <tr>\n",
              "      <th>25</th>\n",
              "      <td>3.255504</td>\n",
              "      <td>3.275168</td>\n",
              "      <td>0.006671</td>\n",
              "      <td>0.003356</td>\n",
              "      <td>44.0</td>\n",
              "      <td>2.3</td>\n",
              "      <td>31.8</td>\n",
              "      <td>2.0</td>\n",
              "      <td>0.160950</td>\n",
              "      <td>0.039831</td>\n",
              "    </tr>\n",
              "    <tr>\n",
              "      <th>26</th>\n",
              "      <td>3.422282</td>\n",
              "      <td>3.442953</td>\n",
              "      <td>0.006671</td>\n",
              "      <td>0.003356</td>\n",
              "      <td>43.4</td>\n",
              "      <td>2.3</td>\n",
              "      <td>30.4</td>\n",
              "      <td>1.9</td>\n",
              "      <td>0.176152</td>\n",
              "      <td>0.039700</td>\n",
              "    </tr>\n",
              "    <tr>\n",
              "      <th>27</th>\n",
              "      <td>3.589059</td>\n",
              "      <td>3.610738</td>\n",
              "      <td>0.006671</td>\n",
              "      <td>0.003356</td>\n",
              "      <td>44.6</td>\n",
              "      <td>2.3</td>\n",
              "      <td>29.0</td>\n",
              "      <td>1.9</td>\n",
              "      <td>0.211957</td>\n",
              "      <td>0.039816</td>\n",
              "    </tr>\n",
              "    <tr>\n",
              "      <th>28</th>\n",
              "      <td>3.755837</td>\n",
              "      <td>3.778523</td>\n",
              "      <td>0.006671</td>\n",
              "      <td>0.003356</td>\n",
              "      <td>47.4</td>\n",
              "      <td>2.4</td>\n",
              "      <td>26.6</td>\n",
              "      <td>1.8</td>\n",
              "      <td>0.281081</td>\n",
              "      <td>0.038919</td>\n",
              "    </tr>\n",
              "    <tr>\n",
              "      <th>29</th>\n",
              "      <td>3.922615</td>\n",
              "      <td>3.946309</td>\n",
              "      <td>0.006671</td>\n",
              "      <td>0.003356</td>\n",
              "      <td>49.6</td>\n",
              "      <td>2.5</td>\n",
              "      <td>19.6</td>\n",
              "      <td>1.6</td>\n",
              "      <td>0.433526</td>\n",
              "      <td>0.038954</td>\n",
              "    </tr>\n",
              "    <tr>\n",
              "      <th>30</th>\n",
              "      <td>4.089393</td>\n",
              "      <td>4.114094</td>\n",
              "      <td>0.006671</td>\n",
              "      <td>0.003356</td>\n",
              "      <td>51.8</td>\n",
              "      <td>2.6</td>\n",
              "      <td>13.0</td>\n",
              "      <td>1.4</td>\n",
              "      <td>0.598765</td>\n",
              "      <td>0.038109</td>\n",
              "    </tr>\n",
              "    <tr>\n",
              "      <th>31</th>\n",
              "      <td>4.256171</td>\n",
              "      <td>4.281879</td>\n",
              "      <td>0.006671</td>\n",
              "      <td>0.003356</td>\n",
              "      <td>55.4</td>\n",
              "      <td>2.7</td>\n",
              "      <td>11.8</td>\n",
              "      <td>1.4</td>\n",
              "      <td>0.648810</td>\n",
              "      <td>0.037135</td>\n",
              "    </tr>\n",
              "    <tr>\n",
              "      <th>32</th>\n",
              "      <td>4.422949</td>\n",
              "      <td>4.449664</td>\n",
              "      <td>0.006671</td>\n",
              "      <td>0.003356</td>\n",
              "      <td>63.6</td>\n",
              "      <td>2.9</td>\n",
              "      <td>11.4</td>\n",
              "      <td>1.3</td>\n",
              "      <td>0.696000</td>\n",
              "      <td>0.031660</td>\n",
              "    </tr>\n",
              "    <tr>\n",
              "      <th>33</th>\n",
              "      <td>4.589726</td>\n",
              "      <td>4.617450</td>\n",
              "      <td>0.006671</td>\n",
              "      <td>0.003356</td>\n",
              "      <td>61.6</td>\n",
              "      <td>2.8</td>\n",
              "      <td>11.4</td>\n",
              "      <td>1.3</td>\n",
              "      <td>0.687671</td>\n",
              "      <td>0.032354</td>\n",
              "    </tr>\n",
              "    <tr>\n",
              "      <th>34</th>\n",
              "      <td>4.756504</td>\n",
              "      <td>4.785235</td>\n",
              "      <td>0.006671</td>\n",
              "      <td>0.003356</td>\n",
              "      <td>53.4</td>\n",
              "      <td>2.6</td>\n",
              "      <td>11.8</td>\n",
              "      <td>1.4</td>\n",
              "      <td>0.638037</td>\n",
              "      <td>0.038019</td>\n",
              "    </tr>\n",
              "    <tr>\n",
              "      <th>35</th>\n",
              "      <td>4.923282</td>\n",
              "      <td>4.953020</td>\n",
              "      <td>0.006671</td>\n",
              "      <td>0.003356</td>\n",
              "      <td>50.6</td>\n",
              "      <td>2.5</td>\n",
              "      <td>15.1</td>\n",
              "      <td>1.5</td>\n",
              "      <td>0.540335</td>\n",
              "      <td>0.039277</td>\n",
              "    </tr>\n",
              "    <tr>\n",
              "      <th>36</th>\n",
              "      <td>5.090060</td>\n",
              "      <td>5.120805</td>\n",
              "      <td>0.006671</td>\n",
              "      <td>0.003356</td>\n",
              "      <td>47.4</td>\n",
              "      <td>2.4</td>\n",
              "      <td>17.0</td>\n",
              "      <td>1.5</td>\n",
              "      <td>0.472050</td>\n",
              "      <td>0.039531</td>\n",
              "    </tr>\n",
              "    <tr>\n",
              "      <th>37</th>\n",
              "      <td>5.256838</td>\n",
              "      <td>5.288591</td>\n",
              "      <td>0.006671</td>\n",
              "      <td>0.003356</td>\n",
              "      <td>43.8</td>\n",
              "      <td>2.3</td>\n",
              "      <td>18.9</td>\n",
              "      <td>1.6</td>\n",
              "      <td>0.397129</td>\n",
              "      <td>0.041954</td>\n",
              "    </tr>\n",
              "    <tr>\n",
              "      <th>38</th>\n",
              "      <td>5.423616</td>\n",
              "      <td>5.456376</td>\n",
              "      <td>0.006671</td>\n",
              "      <td>0.003356</td>\n",
              "      <td>41.8</td>\n",
              "      <td>2.3</td>\n",
              "      <td>22.2</td>\n",
              "      <td>1.7</td>\n",
              "      <td>0.306250</td>\n",
              "      <td>0.042726</td>\n",
              "    </tr>\n",
              "    <tr>\n",
              "      <th>39</th>\n",
              "      <td>5.590394</td>\n",
              "      <td>5.624161</td>\n",
              "      <td>0.006671</td>\n",
              "      <td>0.003356</td>\n",
              "      <td>38.8</td>\n",
              "      <td>2.2</td>\n",
              "      <td>27.2</td>\n",
              "      <td>1.8</td>\n",
              "      <td>0.175758</td>\n",
              "      <td>0.042227</td>\n",
              "    </tr>\n",
              "    <tr>\n",
              "      <th>40</th>\n",
              "      <td>5.757171</td>\n",
              "      <td>5.791946</td>\n",
              "      <td>0.006671</td>\n",
              "      <td>0.003356</td>\n",
              "      <td>39.2</td>\n",
              "      <td>2.2</td>\n",
              "      <td>27.8</td>\n",
              "      <td>1.8</td>\n",
              "      <td>0.170149</td>\n",
              "      <td>0.041603</td>\n",
              "    </tr>\n",
              "    <tr>\n",
              "      <th>41</th>\n",
              "      <td>5.923949</td>\n",
              "      <td>5.959732</td>\n",
              "      <td>0.006671</td>\n",
              "      <td>0.003356</td>\n",
              "      <td>40.0</td>\n",
              "      <td>2.2</td>\n",
              "      <td>25.8</td>\n",
              "      <td>1.8</td>\n",
              "      <td>0.215805</td>\n",
              "      <td>0.042351</td>\n",
              "    </tr>\n",
              "    <tr>\n",
              "      <th>42</th>\n",
              "      <td>6.090727</td>\n",
              "      <td>6.127517</td>\n",
              "      <td>0.006671</td>\n",
              "      <td>0.003356</td>\n",
              "      <td>43.4</td>\n",
              "      <td>2.3</td>\n",
              "      <td>22.8</td>\n",
              "      <td>1.7</td>\n",
              "      <td>0.311178</td>\n",
              "      <td>0.041309</td>\n",
              "    </tr>\n",
              "    <tr>\n",
              "      <th>43</th>\n",
              "      <td>6.257505</td>\n",
              "      <td>6.295302</td>\n",
              "      <td>0.006671</td>\n",
              "      <td>0.003356</td>\n",
              "      <td>47.6</td>\n",
              "      <td>2.4</td>\n",
              "      <td>20.2</td>\n",
              "      <td>1.6</td>\n",
              "      <td>0.404130</td>\n",
              "      <td>0.039280</td>\n",
              "    </tr>\n",
              "    <tr>\n",
              "      <th>44</th>\n",
              "      <td>6.424283</td>\n",
              "      <td>6.463087</td>\n",
              "      <td>0.006671</td>\n",
              "      <td>0.003356</td>\n",
              "      <td>47.8</td>\n",
              "      <td>2.4</td>\n",
              "      <td>18.2</td>\n",
              "      <td>1.5</td>\n",
              "      <td>0.448485</td>\n",
              "      <td>0.038548</td>\n",
              "    </tr>\n",
              "    <tr>\n",
              "      <th>45</th>\n",
              "      <td>6.591061</td>\n",
              "      <td>6.630872</td>\n",
              "      <td>0.006671</td>\n",
              "      <td>0.003356</td>\n",
              "      <td>48.6</td>\n",
              "      <td>2.5</td>\n",
              "      <td>14.2</td>\n",
              "      <td>1.4</td>\n",
              "      <td>0.547771</td>\n",
              "      <td>0.038919</td>\n",
              "    </tr>\n",
              "    <tr>\n",
              "      <th>46</th>\n",
              "      <td>6.757839</td>\n",
              "      <td>6.798658</td>\n",
              "      <td>0.006671</td>\n",
              "      <td>0.003356</td>\n",
              "      <td>49.2</td>\n",
              "      <td>2.5</td>\n",
              "      <td>13.2</td>\n",
              "      <td>1.4</td>\n",
              "      <td>0.576923</td>\n",
              "      <td>0.039230</td>\n",
              "    </tr>\n",
              "    <tr>\n",
              "      <th>47</th>\n",
              "      <td>6.924616</td>\n",
              "      <td>6.966443</td>\n",
              "      <td>0.006671</td>\n",
              "      <td>0.003356</td>\n",
              "      <td>46.6</td>\n",
              "      <td>2.4</td>\n",
              "      <td>11.4</td>\n",
              "      <td>1.3</td>\n",
              "      <td>0.606897</td>\n",
              "      <td>0.039520</td>\n",
              "    </tr>\n",
              "    <tr>\n",
              "      <th>48</th>\n",
              "      <td>7.091394</td>\n",
              "      <td>7.134228</td>\n",
              "      <td>0.006671</td>\n",
              "      <td>0.003356</td>\n",
              "      <td>43.8</td>\n",
              "      <td>2.3</td>\n",
              "      <td>13.0</td>\n",
              "      <td>1.4</td>\n",
              "      <td>0.542254</td>\n",
              "      <td>0.042292</td>\n",
              "    </tr>\n",
              "    <tr>\n",
              "      <th>49</th>\n",
              "      <td>7.258172</td>\n",
              "      <td>7.302013</td>\n",
              "      <td>0.006671</td>\n",
              "      <td>0.003356</td>\n",
              "      <td>41.4</td>\n",
              "      <td>2.2</td>\n",
              "      <td>15.4</td>\n",
              "      <td>1.5</td>\n",
              "      <td>0.457746</td>\n",
              "      <td>0.043853</td>\n",
              "    </tr>\n",
              "  </tbody>\n",
              "</table>\n",
              "</div>"
            ],
            "text/plain": [
              "    tempo [ns]  Unnamed: 1  sigma[t] [ns]  ...  DVmin (mV)  Visibilità  sigma[V]\n",
              "0    -0.340227   -0.342282       0.006671  ...         1.3    0.791183  0.028171\n",
              "1    -0.166778   -0.167785       0.006671  ...         1.2    0.877483  0.019177\n",
              "2     0.000007    0.000010       0.006671  ...         1.0    0.994975  0.025063\n",
              "3     0.166778    0.167785       0.006671  ...         1.1    0.913043  0.034113\n",
              "4     0.333556    0.335570       0.006671  ...         1.2    0.828452  0.023843\n",
              "5     0.500334    0.503356       0.006671  ...         1.4    0.741036  0.025993\n",
              "6     0.567045    0.570470       0.006671  ...         1.5    0.638171  0.027479\n",
              "7     0.667111    0.671141       0.006671  ...         1.6    0.541485  0.031077\n",
              "8     0.833889    0.838926       0.006671  ...         1.8    0.418605  0.035212\n",
              "9     0.900600    0.906040       0.006671  ...         2.0    0.339768  0.032546\n",
              "10    1.000667    1.006711       0.006671  ...         2.2    0.181070  0.035101\n",
              "11    1.167445    1.174497       0.006671  ...         2.0    0.137755  0.038500\n",
              "12    1.334223    1.342282       0.006671  ...         2.0    0.225962  0.037543\n",
              "13    1.501001    1.510067       0.006671  ...         1.8    0.377273  0.034442\n",
              "14    1.567712    1.577181       0.006671  ...         1.7    0.439274  0.033347\n",
              "15    1.667779    1.677852       0.006671  ...         1.5    0.607930  0.029942\n",
              "16    1.834556    1.845638       0.006671  ...         1.4    0.710900  0.030423\n",
              "17    2.001334    2.013423       0.006671  ...         1.2    0.845815  0.025108\n",
              "18    2.168112    2.181208       0.006671  ...         1.1    0.918660  0.025461\n",
              "19    2.334890    2.348993       0.006671  ...         1.1    0.896552  0.026034\n",
              "20    2.501668    2.516779       0.006671  ...         1.2    0.835821  0.028169\n",
              "21    2.668446    2.684564       0.006671  ...         1.3    0.754098  0.032640\n",
              "22    2.835223    2.852349       0.006671  ...         1.4    0.646154  0.032343\n",
              "23    3.002001    3.020134       0.006671  ...         1.6    0.484932  0.037360\n",
              "24    3.088726    3.107383       0.006671  ...         1.9    0.256545  0.039012\n",
              "25    3.255504    3.275168       0.006671  ...         2.0    0.160950  0.039831\n",
              "26    3.422282    3.442953       0.006671  ...         1.9    0.176152  0.039700\n",
              "27    3.589059    3.610738       0.006671  ...         1.9    0.211957  0.039816\n",
              "28    3.755837    3.778523       0.006671  ...         1.8    0.281081  0.038919\n",
              "29    3.922615    3.946309       0.006671  ...         1.6    0.433526  0.038954\n",
              "30    4.089393    4.114094       0.006671  ...         1.4    0.598765  0.038109\n",
              "31    4.256171    4.281879       0.006671  ...         1.4    0.648810  0.037135\n",
              "32    4.422949    4.449664       0.006671  ...         1.3    0.696000  0.031660\n",
              "33    4.589726    4.617450       0.006671  ...         1.3    0.687671  0.032354\n",
              "34    4.756504    4.785235       0.006671  ...         1.4    0.638037  0.038019\n",
              "35    4.923282    4.953020       0.006671  ...         1.5    0.540335  0.039277\n",
              "36    5.090060    5.120805       0.006671  ...         1.5    0.472050  0.039531\n",
              "37    5.256838    5.288591       0.006671  ...         1.6    0.397129  0.041954\n",
              "38    5.423616    5.456376       0.006671  ...         1.7    0.306250  0.042726\n",
              "39    5.590394    5.624161       0.006671  ...         1.8    0.175758  0.042227\n",
              "40    5.757171    5.791946       0.006671  ...         1.8    0.170149  0.041603\n",
              "41    5.923949    5.959732       0.006671  ...         1.8    0.215805  0.042351\n",
              "42    6.090727    6.127517       0.006671  ...         1.7    0.311178  0.041309\n",
              "43    6.257505    6.295302       0.006671  ...         1.6    0.404130  0.039280\n",
              "44    6.424283    6.463087       0.006671  ...         1.5    0.448485  0.038548\n",
              "45    6.591061    6.630872       0.006671  ...         1.4    0.547771  0.038919\n",
              "46    6.757839    6.798658       0.006671  ...         1.4    0.576923  0.039230\n",
              "47    6.924616    6.966443       0.006671  ...         1.3    0.606897  0.039520\n",
              "48    7.091394    7.134228       0.006671  ...         1.4    0.542254  0.042292\n",
              "49    7.258172    7.302013       0.006671  ...         1.5    0.457746  0.043853\n",
              "\n",
              "[50 rows x 10 columns]"
            ]
          },
          "metadata": {
            "tags": []
          },
          "execution_count": 3
        }
      ]
    },
    {
      "cell_type": "markdown",
      "metadata": {
        "id": "JdojiFQSpJRX",
        "colab_type": "text"
      },
      "source": [
        "Per calcolare la visibilità si avrà bisogno di mettere a confronto il minimo ed il massimo dell'intensità, si crea quindi una funzione dedita a tale compito."
      ]
    },
    {
      "cell_type": "code",
      "metadata": {
        "id": "ZY880I3L7-xX",
        "colab_type": "code",
        "outputId": "3b47eba3-41d8-43fd-b902-79b475010cbf",
        "colab": {
          "base_uri": "https://localhost:8080/",
          "height": 621
        }
      },
      "source": [
        "plot(data['Visibilità'], data['tempo [ns]'], title='Andamento della visibilità in funzione di tau',\n",
        "     ylabel = 'Intensità V', xlabel = 'tempo [ns]')"
      ],
      "execution_count": 4,
      "outputs": [
        {
          "output_type": "display_data",
          "data": {
            "image/png": "[encoded data removed]",
            "text/plain": [
              "<Figure size 720x720 with 1 Axes>"
            ]
          },
          "metadata": {
            "tags": [],
            "needs_background": "light"
          }
        }
      ]
    },
    {
      "cell_type": "markdown",
      "metadata": {
        "id": "p0lKCb-WEb4q",
        "colab_type": "text"
      },
      "source": [
        "Si definisce quindi una funzione che restituisca in output l'espressione di $|\\gamma(\\tau)|$ e si fittano i dati relativi alla visibilità in funzione del tempo tramite la suddetta funzione. <br/>\n",
        "Si vuole mettere in evidenza come, data la complessità della funzione di fit, sia necessario fornire una prior per l'inferenza dei parametri del fit, onde evitare di giungere a convergenza in minimi locali."
      ]
    },
    {
      "cell_type": "code",
      "metadata": {
        "id": "9QZNom0RCcXK",
        "colab_type": "code",
        "outputId": "f95ee01e-f7d7-4271-8200-7a4c16619258",
        "colab": {
          "base_uri": "https://localhost:8080/",
          "height": 597
        }
      },
      "source": [
        "def rs(par, t):\n",
        "    sigma = par[0]\n",
        "    N = par[1]\n",
        "    Domega = par[2]\n",
        "    y = np.exp(-sigma*t/2)/N*np.abs(np.sin(N*Domega*t/2)/np.sin(Domega*t/2))\n",
        "    return y\n",
        "fitted = fit(rs, x = data['tempo [ns]'], y = data['Visibilità'], sy = data['sigma[V]'], sx = data['sigma[t] [ns]'],\n",
        "    par0 = [0.16, 2, 2.7], par_names=['sigma', 'N', 'Domega'], xres=100)"
      ],
      "execution_count": 5,
      "outputs": [
        {
          "output_type": "stream",
          "text": [
            "sigma : 0.148 +- 0.010\n",
            "N : 2.000 +- 0.001\n",
            "Domega : 2.747 +- 0.011\n"
          ],
          "name": "stdout"
        },
        {
          "output_type": "display_data",
          "data": {
            "image/png": "[encoded data removed]",
            "text/plain": [
              "<Figure size 432x288 with 1 Axes>"
            ]
          },
          "metadata": {
            "tags": [],
            "needs_background": "light"
          }
        },
        {
          "output_type": "display_data",
          "data": {
            "image/png": "[encoded data removed]",
            "text/plain": [
              "<Figure size 432x288 with 1 Axes>"
            ]
          },
          "metadata": {
            "tags": [],
            "needs_background": "light"
          }
        },
        {
          "output_type": "stream",
          "text": [
            "p_value: 0.209\n"
          ],
          "name": "stdout"
        }
      ]
    },
    {
      "cell_type": "markdown",
      "metadata": {
        "id": "sr6xeGJxE-Zj",
        "colab_type": "text"
      },
      "source": [
        "Appreso grazie al p-value la bontà del fit, si procede con l'estrarre dai parametri ottenuti le grandezze di interesse. Si vuole in particolare conoscere la lunghezza della cavità, il tempo di coerenza e il tempo caratteristico (ovvero il tempo necessario affinché la visibilità si riduca di $\\frac{1}{2e}$)."
      ]
    },
    {
      "cell_type": "code",
      "metadata": {
        "id": "F6J-NgKCgl8p",
        "colab_type": "code",
        "outputId": "a205495a-fb9d-4c0b-a4a8-eead90ab3743",
        "colab": {
          "base_uri": "https://localhost:8080/",
          "height": 34
        }
      },
      "source": [
        "  par = fitted.beta\n",
        "  par_s = fitted.sd_beta\n",
        "  tau = 2/par[0]\n",
        "  stau = par_s[0]/(par[0]*par[0])\n",
        "  print(f'tau value: ({tau : .1f} +- {stau: .1f})ns')"
      ],
      "execution_count": 6,
      "outputs": [
        {
          "output_type": "stream",
          "text": [
            "tau value: ( 13.5 +-  0.4)ns\n"
          ],
          "name": "stdout"
        }
      ]
    },
    {
      "cell_type": "code",
      "metadata": {
        "id": "jnwNTUyEiwLm",
        "colab_type": "code",
        "outputId": "2130c63f-574a-493c-bb87-bf563a3b3e1c",
        "colab": {
          "base_uri": "https://localhost:8080/",
          "height": 312
        }
      },
      "source": [
        "x = np.linspace(-1, 20, 100)\n",
        "plt.plot(x, rs(par, x))\n",
        "plt.plot(x, [rs(par, tau)]*len(x), label = 'gamma(tau)')\n",
        "plt.title('Visibilità nel tempo')\n",
        "plt.xlabel('Tempo [ns]')\n",
        "plt.ylabel('Visibilità / gamma(t)')\n",
        "plt.legend()"
      ],
      "execution_count": 7,
      "outputs": [
        {
          "output_type": "execute_result",
          "data": {
            "text/plain": [
              "<matplotlib.legend.Legend at 0x7f157e4d0588>"
            ]
          },
          "metadata": {
            "tags": []
          },
          "execution_count": 7
        },
        {
          "output_type": "display_data",
          "data": {
            "image/png": "[encoded data removed]",
            "text/plain": [
              "<Figure size 432x288 with 1 Axes>"
            ]
          },
          "metadata": {
            "tags": [],
            "needs_background": "light"
          }
        }
      ]
    },
    {
      "cell_type": "code",
      "metadata": {
        "id": "PoVBj5sFmXJh",
        "colab_type": "code",
        "outputId": "83af5d37-0067-4fdf-84aa-5ed3c9defa20",
        "colab": {
          "base_uri": "https://localhost:8080/",
          "height": 34
        }
      },
      "source": [
        "# lunghezza della cavità\n",
        "L = cost.pi*cost.c/(par[2]*1e9)\n",
        "sL = cost.pi*cost.c*par_s[2]*1e9/(par[2]*1e9)**2\n",
        "print(f'Lunghezza della cavità del laser: ({L:.3f} +- {sL:.3f})m')"
      ],
      "execution_count": 8,
      "outputs": [
        {
          "output_type": "stream",
          "text": [
            "Lunghezza della cavità del laser: (0.343 +- 0.001)m\n"
          ],
          "name": "stdout"
        }
      ]
    },
    {
      "cell_type": "markdown",
      "metadata": {
        "id": "XMV87JZ6FvTH",
        "colab_type": "text"
      },
      "source": [
        "Si prova dunque a fornire come prior un valore indicativo dei modi pari a 3 e al fine di cercare di comprendere se esso possa rappresentare una stima coerente."
      ]
    },
    {
      "cell_type": "code",
      "metadata": {
        "id": "duLsTmbIcI3O",
        "colab_type": "code",
        "outputId": "3073e479-ae6b-449a-a45c-fba225cb80b1",
        "colab": {
          "base_uri": "https://localhost:8080/",
          "height": 614
        }
      },
      "source": [
        "#verifica dell'ipotesi dei 3 modi\n",
        "def rs(par, t):\n",
        "    sigma = par[0]\n",
        "    N = par[1]\n",
        "    Domega = par[2]\n",
        "    y = np.exp(-sigma*t/2)/N*np.abs(np.sin(N*Domega*t/2)/np.sin(Domega*t/2))\n",
        "    return y\n",
        "fit(rs, x = data['tempo [ns]'], y = data['Visibilità'], sy = data['sigma[V]'], sx = data['sigma[t] [ns]'],\n",
        "    par0 = [0.16, 3, 2.76], par_names=['sigma', 'N', 'Domega'])"
      ],
      "execution_count": 9,
      "outputs": [
        {
          "output_type": "stream",
          "text": [
            "sigma : 0.080 +- 0.031\n",
            "N : 2.998 +- 0.004\n",
            "Domega : 2.750 +- 0.019\n"
          ],
          "name": "stdout"
        },
        {
          "output_type": "display_data",
          "data": {
            "image/png": "[encoded data removed]",
            "text/plain": [
              "<Figure size 432x288 with 1 Axes>"
            ]
          },
          "metadata": {
            "tags": [],
            "needs_background": "light"
          }
        },
        {
          "output_type": "display_data",
          "data": {
            "image/png": "[encoded data removed]",
            "text/plain": [
              "<Figure size 432x288 with 1 Axes>"
            ]
          },
          "metadata": {
            "tags": [],
            "needs_background": "light"
          }
        },
        {
          "output_type": "stream",
          "text": [
            "p_value: 0.000\n"
          ],
          "name": "stdout"
        },
        {
          "output_type": "execute_result",
          "data": {
            "text/plain": [
              "<scipy.odr.odrpack.Output at 0x7f157dfc3198>"
            ]
          },
          "metadata": {
            "tags": []
          },
          "execution_count": 9
        }
      ]
    },
    {
      "cell_type": "markdown",
      "metadata": {
        "id": "HdOq_3S6T9lH",
        "colab_type": "text"
      },
      "source": [
        "# Test della differenza delle visibilità"
      ]
    },
    {
      "cell_type": "code",
      "metadata": {
        "id": "S4XzmvxmT9MN",
        "colab_type": "code",
        "colab": {
          "base_uri": "https://localhost:8080/",
          "height": 631
        },
        "outputId": "aa6298d2-c2ae-4f72-b76d-0e15de734ba9"
      },
      "source": [
        "def rs(par, t):\n",
        "    sigma = par[0]\n",
        "    N = par[1]\n",
        "    Domega = par[2]\n",
        "    alpha = par[3]\n",
        "    y = alpha*np.exp(-sigma*t/2)/N*np.abs(np.sin(N*Domega*t/2)/np.sin(Domega*t/2))\n",
        "    #y = np.exp(-sigma*t/2)/N*np.abs(np.sin(N*Domega*t/2)/np.sin(Domega*t/2))\n",
        "    #y = alpha*(1-t/2*sigma)*1/N*np.abs(np.sin(N*Domega*t/2)/np.sin(Domega*t/2))\n",
        "    return y\n",
        "fitted = fit(rs, x = data['tempo [ns]'], y = data['Visibilità'], sy = data['sigma[V]'], sx = data['sigma[t] [ns]'],\n",
        "    par0 = [0.15, 2, 2.5, 50], \n",
        "    par_names=['sigma', 'N', 'Domega', 'alpha'], xres=100)\n",
        "\n",
        "par = fitted.beta\n",
        "par_s = fitted.sd_beta\n",
        "tau = 2/par[0]\n",
        "stau = par_s[0]/(par[0]*par[0])\n",
        "print(f'new tau value : ({tau:.1f} +- {stau:.1f})ns')"
      ],
      "execution_count": 42,
      "outputs": [
        {
          "output_type": "stream",
          "text": [
            "sigma : 0.129 +- 0.012\n",
            "N : 2.000 +- 0.000\n",
            "Domega : 2.746 +- 0.011\n",
            "alpha : 0.961 +- 0.017\n"
          ],
          "name": "stdout"
        },
        {
          "output_type": "display_data",
          "data": {
            "image/png": "[encoded data removed]",
            "text/plain": [
              "<Figure size 432x288 with 1 Axes>"
            ]
          },
          "metadata": {
            "tags": [],
            "needs_background": "light"
          }
        },
        {
          "output_type": "display_data",
          "data": {
            "image/png": "[encoded data removed]",
            "text/plain": [
              "<Figure size 432x288 with 1 Axes>"
            ]
          },
          "metadata": {
            "tags": [],
            "needs_background": "light"
          }
        },
        {
          "output_type": "stream",
          "text": [
            "p_value: 0.041\n",
            "new tau value : (15.4 +- 0.7)ns\n"
          ],
          "name": "stdout"
        }
      ]
    }
  ]
}