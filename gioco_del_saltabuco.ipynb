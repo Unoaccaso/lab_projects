{
  "nbformat": 4,
  "nbformat_minor": 0,
  "metadata": {
    "colab": {
      "name": "gioco del saltabuco",
      "provenance": [],
      "authorship_tag": "ABX9TyMZ6kAHyP+F2S5C3NCg7P+7",
      "include_colab_link": true
    },
    "kernelspec": {
      "name": "python3",
      "display_name": "Python 3"
    },
    "accelerator": "GPU"
  },
  "cells": [
    {
      "cell_type": "markdown",
      "metadata": {
        "id": "view-in-github",
        "colab_type": "text"
      },
      "source": [
        "<a href=\"https://colab.research.google.com/github/Unoaccaso/lab_projects/blob/master/gioco_del_saltabuco.ipynb\" target=\"_parent\"><img src=\"https://colab.research.google.com/assets/colab-badge.svg\" alt=\"Open In Colab\"/></a>"
      ]
    },
    {
      "cell_type": "markdown",
      "metadata": {
        "id": "GduqOQj3vqso",
        "colab_type": "text"
      },
      "source": [
        "# Simulazioni numeriche per fenomeni d'interferenza"
      ]
    },
    {
      "cell_type": "code",
      "metadata": {
        "id": "fBr4R6xuvp7s",
        "colab_type": "code",
        "colab": {}
      },
      "source": [
        "# ===================================\n",
        "# Importazione delle librerie utili\n",
        "# ===================================\n",
        "\n",
        "# si sceglie numpy per la gestione di matrici e vettori\n",
        "import numpy as np \n",
        "# libreria ottimizzata per l'esecuzione su GPU\n",
        "try:\n",
        "  import cupy as cp\n",
        "except ModuleNotFoundError:\n",
        "  !pip install cupy\n",
        "  import cupy as cp\n",
        "from numba import cuda\n",
        "from time import time\n",
        "\n",
        "import matplotlib.pyplot as plt\n",
        "# plot style parameters\n",
        "plt.style.use('ggplot')\n",
        "plt.rcParams['axes.facecolor'] = '#f7f9fc'"
      ],
      "execution_count": 0,
      "outputs": []
    },
    {
      "cell_type": "code",
      "metadata": {
        "id": "cxxBdvVfxnkZ",
        "colab_type": "code",
        "outputId": "0137d650-801c-470a-fbc9-98397fe2818c",
        "colab": {
          "base_uri": "https://localhost:8080/",
          "height": 299
        }
      },
      "source": [
        "# ==================== \n",
        "# Physical Parameters  \n",
        "# ====================\n",
        "Ip = 4**2                 # peak intensity               \n",
        "Ib = 1.0                  # background illumination                       \n",
        "Lambda = 651e-9         # wavelength\n",
        "k0 = 2*np.pi/Lambda       # vacuum wavevector                 \n",
        "n0 = 1.5                  # background index of refraction      \n",
        "Lz = 0.78                 # computational length of sample    \n",
        "Lx = 4e-3                 # computational width of sample          \n",
        "\n",
        "w0 = 0.25e-3              # beam width of gaussian beam parameter\n",
        "h = 0.67e-3               # slit separation\n",
        "inputposition=-0*1e-6     # input position \n",
        "inputposition=+h/2        # input position \n",
        "\n",
        "# =========================\n",
        "# Computational Parameters \n",
        "# =========================\n",
        "nstepx = 2000             # number of transverse grid points\n",
        "nstepz = 7000             # number of longitudinal propagation steps\n",
        "\n",
        "deltax = Lx/nstepx        # resolution in the x direction\n",
        "deltaz = Lz/nstepz        # resolution in the z direction, IMPORTANT\n",
        "deltaf = 1/Lx             # spatial frequency step\n",
        "\n",
        "# ===================\n",
        "# Meshgrid generation\n",
        "# ===================\n",
        "z = cp.arange(0, Lz+deltaz, deltaz)                \n",
        "x = -Lx/2 + (cp.arange(0, nstepx, 1))*deltax\n",
        "\n",
        "# =====================\n",
        "# Dispersive Step Setup\n",
        "# =====================\n",
        "# this is to get rid of fftshifts and the sort\n",
        "\n",
        "ntx = 0     \n",
        "kx = cp.zeros(nstepx)                              \n",
        "for nn in range(nstepx):\n",
        "    ikx = nn - ntx\n",
        "    kx[nn]=2*np.pi*deltaf*ikx\n",
        "    if nn + 1 - nstepx/2 == 0:\n",
        "      ntx = nstepx\n",
        "      \n",
        "# =======================\n",
        "# Input fields definition  \n",
        "# =======================\n",
        "def Gaussian(x, Ip = Ip, w0=w0, x0=0):\n",
        "  return cp.sqrt(Ip)*cp.exp(-((x - x0)**2)/(w0**2))\n",
        "\n",
        "# ================\n",
        "# Propagation loop\n",
        "# ================\n",
        "@cuda.jit\n",
        "def propagate(Field,k = k0, dn=0,  nstepz=nstepz, deltaz=deltaz,\n",
        "              keep_memory=False, verbose=1):\n",
        "  # Fast fourier transform api\n",
        "  fft, ifft = cp.fft.fft, cp.fft.ifft # faster with big matrices\n",
        "  if keep_memory:\n",
        "    FieldModuleMemory = cp.zeros(shape=(nstepx, nstepz+1))\n",
        "    FieldModuleMemory[:, 0] = cp.abs(Field)\n",
        "  else:\n",
        "    FieldModuleMemory = None\n",
        "  ArgumentOfPropagator  = ((k*n0)**(-1)*(kx**2))*(deltaz/2);             \n",
        "  Propagator = cp.exp(1j*ArgumentOfPropagator)\n",
        "  tstart = time()\n",
        "\n",
        "  for hh in range(nstepz):\n",
        "    # ================= DISPERSIVE HALF STEP =========================    \n",
        "    FieldTransform=fft(Field, nstepx)\n",
        "    FieldTransform=FieldTransform*Propagator\n",
        "    Field=ifft(FieldTransform,nstepx)    \n",
        "    # =================== ONE NONLINEAR STEP =========================\n",
        "    Field=Field*cp.exp(-1j*k0*deltaz*dn)    \n",
        "    # =================== DISPERSIVE HALF STEP =======================\n",
        "    FieldTransform=fft(Field, nstepx)\n",
        "    FieldTransform=FieldTransform*Propagator\n",
        "    Field=ifft(FieldTransform,nstepx)\n",
        "\n",
        "    if keep_memory:\n",
        "          FieldModuleMemory[:, 1+hh] = cp.abs(Field)\n",
        "\n",
        "  if verbose:\n",
        "    print(f'elapsed time:{time()-tstart}')\n",
        "  return Field, FieldModuleMemory\n",
        "\n",
        "# =================\n",
        "# Plotting function\n",
        "# =================\n",
        "def plot(Power, figsize=(15, 15), width=40, unit=\"mm\"):\n",
        "  fig, ax = plt.subplots(figsize=figsize)\n",
        "  ax.grid(False)\n",
        "  ax.set(xlabel=f\"x ({unit})\", ylabel=f\"y ({unit})\")\n",
        "  ax.imshow(Power, extent=[-width,width,-width,width], vmin=0)\n",
        "  return fig, ax\n",
        "\n",
        "# =============================\n",
        "# To convert wavelength to cmap\n",
        "#==============================\n",
        "from matplotlib.colors import LinearSegmentedColormap\n",
        "'''\n",
        "To make more realistic plots we define a function\n",
        "returning approzimated colormap from wavelength.\n",
        "There is not a simple form for it, because of the\n",
        "complex mechanisms of human vision and trichromy.\n",
        "The physical model of colors mixing is achieved \n",
        "by summing values in RGB and clipping the results at 1.\n",
        "'''\n",
        "def wavelength_to_rgb(wavelength):\n",
        "    '''\n",
        "    Based on code by Dan Bruton\n",
        "    http://www.physics.sfasu.edu/astro/color/spectra.html\n",
        "    Additionally alpha value set to 0.5 outside range\n",
        "    '''\n",
        "    wl = float(wavelength)\n",
        "    if wl < 380: wl = 380\n",
        "    if wl > 750: wl = 750\n",
        "    if wl >= 380 and wl <= 440:\n",
        "        att = 0.3 + 0.7 * (wl - 380) / (440 - 380) # attenuation\n",
        "        R, G, B = ((-(wl - 440) / (440 - 380)) * att), 0, (1.0 * att)\n",
        "    elif wl >= 440 and wl <= 490:\n",
        "        R, G, B = 0.0, ((wl - 440) / (490 - 440)), 1\n",
        "    elif wl >= 490 and wl <= 510:\n",
        "        R, G, B = 0.0, 1, (-(wl - 510) / (510 - 490))\n",
        "    elif wl >= 510 and wl <= 580:\n",
        "        R, G, B = ((wl - 510) / (580 - 510)), 1, 0\n",
        "    elif wl >= 580 and wl <= 645:\n",
        "        R, G, B = 1.0, (-(wl - 645) / (645 - 580)), 0\n",
        "    elif wl >= 645 and wl <= 750:\n",
        "        att = 0.3 + 0.7 * (750 - wl) / (750 - 645)\n",
        "        R, G, B = (1.0 * att), 0, 0\n",
        "    else:\n",
        "        R, G, B = 0, 0, 0\n",
        "    return cp.asarray([R, G, B])\n",
        "\n",
        "def wavelength_to_cmap(wavelength):\n",
        "  R, G, B = wavelength_to_rgb(wavelength)\n",
        "  cdict = {\n",
        "        'red':  [[0.0,  0.0, 0.0],\n",
        "                  [1.0,  R, R]],\n",
        "        'green': [[0.0,  0.0, 0.0],\n",
        "                  [1.0,  G, G]],\n",
        "        'blue':  [[0.0,  0.0, 0.0],\n",
        "                  [1.0,  B, B]]\n",
        "            }\n",
        "  return LinearSegmentedColormap('Cmap', segmentdata=cdict, N=256)\n",
        "\n",
        "wavelengths = np.linspace(380, 750, 100) # in nanometers\n",
        "rgbs = np.stack([cp.asnumpy(wavelength_to_rgb(wl)) for wl in wavelengths])\n",
        "plt.plot(wavelengths, rgbs[:, 0], \"r-\")\n",
        "plt.plot(wavelengths, rgbs[:, 1], \"g-\")\n",
        "plt.plot(wavelengths, rgbs[:, 2], \"b-\")\n",
        "plt.xlabel(\"wavelength (nm)\")\n",
        "plt.ylabel(\"RGB values\")\n",
        "plt.title(\"Wavelength vs. RGB values\")\n",
        "plt.show()\n",
        "\n",
        "cmap = wavelength_to_cmap(Lambda*1e9) #light at the wavelength used in our experiment\n",
        "\n",
        "# ======================\n",
        "# To plot final spectrum\n",
        "# ======================\n",
        "def propagate_and_get_rgb(InputField, wavelength, k=k0, dn=0):\n",
        "  k = 2*np.pi/(wavelength)\n",
        "  OutputField, FieldModuleMemory = propagate(InputField, k, dn=dn, keep_memory=True)\n",
        "  P = cp.abs(OutputField)**2\n",
        "  if P.ndim == 1:\n",
        "    P = cp.stack((cp.abs(OutputField)**2,)*100, axis=0)\n",
        "  rgb = cp.stack((P,)*3, axis=-1)/cp.max(P)\n",
        "  return rgb*wavelength_to_rgb(wavelength*1e9), OutputField, FieldModuleMemory\n",
        "\n",
        "# ====================\n",
        "# Show result function\n",
        "# ====================\n",
        "def show_results(OutputPower, FieldModuleMemory, Color):\n",
        "  fig = plt.figure(constrained_layout=True, figsize=(10, 10))\n",
        "  gs = fig.add_gridspec(3, 3)\n",
        "\n",
        "  ax1 = fig.add_subplot(gs[0, :2])\n",
        "  ax1.set_title('Output power spectrum')\n",
        "  ax1.plot(cp.asnumpy(x), cp.asnumpy(OutputPower))\n",
        "\n",
        "  ax2 = fig.add_subplot(gs[1, :2])\n",
        "  ax2.set_title('Diffracted light')\n",
        "  ax2.imshow(cp.asnumpy(Color), extent=[x.min(), x.max(), 0, 1], aspect='auto')\n",
        "  ax2.grid(False)\n",
        "\n",
        "  ax3 = fig.add_subplot(gs[:2, 2])\n",
        "  ax3.set_title('Diffracted light')\n",
        "  ax3.imshow(cp.asnumpy(cp.abs(FieldModuleMemory.T)**2), origin='lower', \n",
        "             extent=[-0.02, 0.02, z.min(), z.max()], aspect = 'auto', \n",
        "             cmap='hot')\n",
        "  ax3.grid(False)\n",
        "  plt.show()\n",
        "  plt.close()"
      ],
      "execution_count": 157,
      "outputs": [
        {
          "output_type": "display_data",
          "data": {
            "image/png": "[encoded data removed]",
            "text/plain": [
              "<Figure size 432x288 with 1 Axes>"
            ]
          },
          "metadata": {
            "tags": []
          }
        }
      ]
    },
    {
      "cell_type": "code",
      "metadata": {
        "id": "JVutGvUKBah_",
        "colab_type": "code",
        "outputId": "e50435e2-e8f0-4658-fbdf-f8751f5a6260",
        "colab": {
          "base_uri": "https://localhost:8080/",
          "height": 312
        }
      },
      "source": [
        "# =================\n",
        "# Creating z=0 mask\n",
        "# =================\n",
        "InputField = 0*x           # Initializing field\n",
        "dist = 30e-6               # distance betwen slices\n",
        "width = 30e-6              # width of slices\n",
        "\n",
        "# ================\n",
        "# Making the guide\n",
        "# ================\n",
        "def n(x, n_value = 0.8*1e-4, dist = 2e-5, width = 30e-6):\n",
        "  x = cp.asnumpy(x)\n",
        "  dn = n_value*(np.heaviside(x-dist/2, n_value/2)-np.heaviside(x-dist/2-width, n_value/2) \\\n",
        "                  - np.heaviside(x+dist/2, n_value/2)+np.heaviside(x+dist/2+width, n_value/2))\n",
        "  return cp.array(dn)\n",
        "dn = n(x, dist=dist, width=width)\n",
        "print(dn)\n",
        "InputField += Gaussian(x, w0=20e-6, x0=dist/2+width/2)\n",
        "InputPower = cp.abs(InputField)**2\n",
        "# visualizing the field in z=0\n",
        "plt.plot(cp.asnumpy(x), cp.asnumpy(InputPower))\n",
        "plt.plot(cp.asnumpy(x), cp.asnumpy(Ip*dn/dn.max()))\n",
        "plt.xlim((-7e-5, 7e-5))"
      ],
      "execution_count": 158,
      "outputs": [
        {
          "output_type": "stream",
          "text": [
            "[0. 0. 0. ... 0. 0. 0.]\n"
          ],
          "name": "stdout"
        },
        {
          "output_type": "execute_result",
          "data": {
            "text/plain": [
              "(-7e-05, 7e-05)"
            ]
          },
          "metadata": {
            "tags": []
          },
          "execution_count": 158
        },
        {
          "output_type": "display_data",
          "data": {
            "image/png": "[encoded data removed]",
            "text/plain": [
              "<Figure size 432x288 with 1 Axes>"
            ]
          },
          "metadata": {
            "tags": []
          }
        }
      ]
    },
    {
      "cell_type": "code",
      "metadata": {
        "id": "y3S7AO3zfZpw",
        "colab_type": "code",
        "outputId": "0b3efccb-2e3b-456d-82e0-7d5dd68774ff",
        "colab": {
          "base_uri": "https://localhost:8080/",
          "height": 351
        }
      },
      "source": [
        "Color, OutputField, FieldModuleMemory = propagate_and_get_rgb(InputField, Lambda, dn=dn)\n",
        "show_results(cp.abs(OutputField)**2, FieldModuleMemory[np.abs(x)<4e-4, :], Color)\n",
        "plt.plot(x, cp.abs(OutputField)**2)\n",
        "plt.plot(x, Ip*dn/dn.max())\n",
        "plt.xlim((-5e-5, 5e-5))\n",
        "plt.show()\n",
        "plt.close()"
      ],
      "execution_count": 159,
      "outputs": [
        {
          "output_type": "error",
          "ename": "TypeError",
          "evalue": "ignored",
          "traceback": [
            "\u001b[0;31m---------------------------------------------------------------------------\u001b[0m",
            "\u001b[0;31mTypeError\u001b[0m                                 Traceback (most recent call last)",
            "\u001b[0;32m<ipython-input-159-8944f7e6a82c>\u001b[0m in \u001b[0;36m<module>\u001b[0;34m()\u001b[0m\n\u001b[0;32m----> 1\u001b[0;31m \u001b[0mColor\u001b[0m\u001b[0;34m,\u001b[0m \u001b[0mOutputField\u001b[0m\u001b[0;34m,\u001b[0m \u001b[0mFieldModuleMemory\u001b[0m \u001b[0;34m=\u001b[0m \u001b[0mpropagate_and_get_rgb\u001b[0m\u001b[0;34m(\u001b[0m\u001b[0mInputField\u001b[0m\u001b[0;34m,\u001b[0m \u001b[0mLambda\u001b[0m\u001b[0;34m,\u001b[0m \u001b[0mdn\u001b[0m\u001b[0;34m=\u001b[0m\u001b[0mdn\u001b[0m\u001b[0;34m)\u001b[0m\u001b[0;34m\u001b[0m\u001b[0;34m\u001b[0m\u001b[0m\n\u001b[0m\u001b[1;32m      2\u001b[0m \u001b[0mshow_results\u001b[0m\u001b[0;34m(\u001b[0m\u001b[0mcp\u001b[0m\u001b[0;34m.\u001b[0m\u001b[0mabs\u001b[0m\u001b[0;34m(\u001b[0m\u001b[0mOutputField\u001b[0m\u001b[0;34m)\u001b[0m\u001b[0;34m**\u001b[0m\u001b[0;36m2\u001b[0m\u001b[0;34m,\u001b[0m \u001b[0mFieldModuleMemory\u001b[0m\u001b[0;34m[\u001b[0m\u001b[0mnp\u001b[0m\u001b[0;34m.\u001b[0m\u001b[0mabs\u001b[0m\u001b[0;34m(\u001b[0m\u001b[0mx\u001b[0m\u001b[0;34m)\u001b[0m\u001b[0;34m<\u001b[0m\u001b[0;36m4e-4\u001b[0m\u001b[0;34m,\u001b[0m \u001b[0;34m:\u001b[0m\u001b[0;34m]\u001b[0m\u001b[0;34m,\u001b[0m \u001b[0mColor\u001b[0m\u001b[0;34m)\u001b[0m\u001b[0;34m\u001b[0m\u001b[0;34m\u001b[0m\u001b[0m\n\u001b[1;32m      3\u001b[0m \u001b[0mplt\u001b[0m\u001b[0;34m.\u001b[0m\u001b[0mplot\u001b[0m\u001b[0;34m(\u001b[0m\u001b[0mx\u001b[0m\u001b[0;34m,\u001b[0m \u001b[0mcp\u001b[0m\u001b[0;34m.\u001b[0m\u001b[0mabs\u001b[0m\u001b[0;34m(\u001b[0m\u001b[0mOutputField\u001b[0m\u001b[0;34m)\u001b[0m\u001b[0;34m**\u001b[0m\u001b[0;36m2\u001b[0m\u001b[0;34m)\u001b[0m\u001b[0;34m\u001b[0m\u001b[0;34m\u001b[0m\u001b[0m\n\u001b[1;32m      4\u001b[0m \u001b[0mplt\u001b[0m\u001b[0;34m.\u001b[0m\u001b[0mplot\u001b[0m\u001b[0;34m(\u001b[0m\u001b[0mx\u001b[0m\u001b[0;34m,\u001b[0m \u001b[0mIp\u001b[0m\u001b[0;34m*\u001b[0m\u001b[0mdn\u001b[0m\u001b[0;34m/\u001b[0m\u001b[0mdn\u001b[0m\u001b[0;34m.\u001b[0m\u001b[0mmax\u001b[0m\u001b[0;34m(\u001b[0m\u001b[0;34m)\u001b[0m\u001b[0;34m)\u001b[0m\u001b[0;34m\u001b[0m\u001b[0;34m\u001b[0m\u001b[0m\n\u001b[1;32m      5\u001b[0m \u001b[0mplt\u001b[0m\u001b[0;34m.\u001b[0m\u001b[0mxlim\u001b[0m\u001b[0;34m(\u001b[0m\u001b[0;34m(\u001b[0m\u001b[0;34m-\u001b[0m\u001b[0;36m5e-5\u001b[0m\u001b[0;34m,\u001b[0m \u001b[0;36m5e-5\u001b[0m\u001b[0;34m)\u001b[0m\u001b[0;34m)\u001b[0m\u001b[0;34m\u001b[0m\u001b[0;34m\u001b[0m\u001b[0m\n",
            "\u001b[0;32m<ipython-input-157-54b202d8fada>\u001b[0m in \u001b[0;36mpropagate_and_get_rgb\u001b[0;34m(InputField, wavelength, k, dn)\u001b[0m\n\u001b[1;32m    164\u001b[0m \u001b[0;32mdef\u001b[0m \u001b[0mpropagate_and_get_rgb\u001b[0m\u001b[0;34m(\u001b[0m\u001b[0mInputField\u001b[0m\u001b[0;34m,\u001b[0m \u001b[0mwavelength\u001b[0m\u001b[0;34m,\u001b[0m \u001b[0mk\u001b[0m\u001b[0;34m=\u001b[0m\u001b[0mk0\u001b[0m\u001b[0;34m,\u001b[0m \u001b[0mdn\u001b[0m\u001b[0;34m=\u001b[0m\u001b[0;36m0\u001b[0m\u001b[0;34m)\u001b[0m\u001b[0;34m:\u001b[0m\u001b[0;34m\u001b[0m\u001b[0;34m\u001b[0m\u001b[0m\n\u001b[1;32m    165\u001b[0m   \u001b[0mk\u001b[0m \u001b[0;34m=\u001b[0m \u001b[0;36m2\u001b[0m\u001b[0;34m*\u001b[0m\u001b[0mnp\u001b[0m\u001b[0;34m.\u001b[0m\u001b[0mpi\u001b[0m\u001b[0;34m/\u001b[0m\u001b[0;34m(\u001b[0m\u001b[0mwavelength\u001b[0m\u001b[0;34m)\u001b[0m\u001b[0;34m\u001b[0m\u001b[0;34m\u001b[0m\u001b[0m\n\u001b[0;32m--> 166\u001b[0;31m   \u001b[0mOutputField\u001b[0m\u001b[0;34m,\u001b[0m \u001b[0mFieldModuleMemory\u001b[0m \u001b[0;34m=\u001b[0m \u001b[0mpropagate\u001b[0m\u001b[0;34m(\u001b[0m\u001b[0mInputField\u001b[0m\u001b[0;34m,\u001b[0m \u001b[0mk\u001b[0m\u001b[0;34m,\u001b[0m \u001b[0mdn\u001b[0m\u001b[0;34m=\u001b[0m\u001b[0mdn\u001b[0m\u001b[0;34m,\u001b[0m \u001b[0mkeep_memory\u001b[0m\u001b[0;34m=\u001b[0m\u001b[0;32mTrue\u001b[0m\u001b[0;34m)\u001b[0m\u001b[0;34m\u001b[0m\u001b[0;34m\u001b[0m\u001b[0m\n\u001b[0m\u001b[1;32m    167\u001b[0m   \u001b[0mP\u001b[0m \u001b[0;34m=\u001b[0m \u001b[0mcp\u001b[0m\u001b[0;34m.\u001b[0m\u001b[0mabs\u001b[0m\u001b[0;34m(\u001b[0m\u001b[0mOutputField\u001b[0m\u001b[0;34m)\u001b[0m\u001b[0;34m**\u001b[0m\u001b[0;36m2\u001b[0m\u001b[0;34m\u001b[0m\u001b[0;34m\u001b[0m\u001b[0m\n\u001b[1;32m    168\u001b[0m   \u001b[0;32mif\u001b[0m \u001b[0mP\u001b[0m\u001b[0;34m.\u001b[0m\u001b[0mndim\u001b[0m \u001b[0;34m==\u001b[0m \u001b[0;36m1\u001b[0m\u001b[0;34m:\u001b[0m\u001b[0;34m\u001b[0m\u001b[0;34m\u001b[0m\u001b[0m\n",
            "\u001b[0;31mTypeError\u001b[0m: __call__() got an unexpected keyword argument 'dn'"
          ]
        }
      ]
    },
    {
      "cell_type": "code",
      "metadata": {
        "id": "sCD3-KHWYWuD",
        "colab_type": "code",
        "colab": {}
      },
      "source": [
        "R_intensity_ratio = cp.sum(cp.abs(FieldModuleMemory[x >= 0, :])**2, axis=0)/cp.sum(cp.abs(FieldModuleMemory)**2, axis=0)\n",
        "plt.plot(cp.asnumpy(z), cp.asnumpy(R_intensity_ratio[0]), label='Right intensity ratio')\n",
        "plt.legend()"
      ],
      "execution_count": 0,
      "outputs": []
    },
    {
      "cell_type": "markdown",
      "metadata": {
        "id": "n8wpsD06mKr1",
        "colab_type": "text"
      },
      "source": [
        "# Lughezza caratteristica del processo\n",
        "Voglio trovare una lunghezza caratteristica, eseguo un fit sull'andamento cosinusoidale osservato per l'intensità."
      ]
    },
    {
      "cell_type": "code",
      "metadata": {
        "id": "rQHZzgutm45Q",
        "colab_type": "code",
        "colab": {}
      },
      "source": [
        "from scipy.optimize import curve_fit as fit\n",
        "\n",
        "def cos(x, omega):\n",
        "  return np.cos(omega*x)**2\n",
        "\n",
        "max_dist = 40\n",
        "min_dist = 30\n",
        "n_fits = max_dist - min_dist\n",
        "omegas = np.zeros(n_fits)\n",
        "R_intensity_ratio  = cp.zeros((n_fits, len(z)))\n",
        "for i, dist in enumerate(np.linspace(min_dist, max_dist, n_fits)):\n",
        "  dn = n(x, dist=dist*1e-6, width=30e-6)\n",
        "  InputField = x*0\n",
        "  InputField += Gaussian(x, w0=20e-6, x0=dist*1e-6/2+30e-6/2)\n",
        "  InputPower = cp.abs(InputField)**2\n",
        "  OutputField, FieldModuleMemory = propagate(InputField, dn=dn, keep_memory=True)\n",
        "  R_intensity_ratio[i] = cp.sum(cp.abs(FieldModuleMemory[x >= 0, :])**2, axis=0)/cp.sum(cp.abs(FieldModuleMemory)**2, axis=0)\n",
        "  omegas[i], _ = fit(cos, cp.asnumpy(z), cp.asnumpy(R_intensity_ratio[i]), p0=[10])"
      ],
      "execution_count": 0,
      "outputs": []
    },
    {
      "cell_type": "code",
      "metadata": {
        "id": "tF82zjwYnY8z",
        "colab_type": "code",
        "colab": {}
      },
      "source": [
        "fig, axs = plt.subplots(5, n_fits//5, figsize=(15, 20))\n",
        "for i, ax in enumerate(axs.reshape(-1)):\n",
        "  ax.plot(cp.asnumpy(z), cos(cp.asnumpy(z), omegas[i]), color='r')\n",
        "  ax.plot(cp.asnumpy(z), cp.asnumpy(R_intensity_ratio[i]), color='b')\n",
        "  ax.title.set_text(f'len = {2*cp.pi/omegas[i]:.4f}')"
      ],
      "execution_count": 0,
      "outputs": []
    },
    {
      "cell_type": "markdown",
      "metadata": {
        "id": "BH3AKRap4_tC",
        "colab_type": "text"
      },
      "source": [
        "così definita la lunghezza caratteristica è il periodo spaziale dell'oscillazione. Questa definizione è utile per trovare z tale che l'intensità è a metà tra le due guide d'onda(L/4)."
      ]
    }
  ]
}